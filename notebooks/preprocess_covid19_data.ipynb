{
 "nbformat": 4,
 "nbformat_minor": 2,
 "metadata": {
  "language_info": {
   "name": "python",
   "codemirror_mode": {
    "name": "ipython",
    "version": 3
   },
   "version": "3.6.9-final"
  },
  "orig_nbformat": 2,
  "file_extension": ".py",
  "mimetype": "text/x-python",
  "name": "python",
  "npconvert_exporter": "python",
  "pygments_lexer": "ipython3",
  "version": 3,
  "kernelspec": {
   "name": "python36964bitvenvvirtualenv1fb355e5649a4acab1f60f6a1be11128",
   "display_name": "Python 3.6.9 64-bit ('.venv': virtualenv)"
  }
 },
 "cells": [
  {
   "cell_type": "code",
   "execution_count": 49,
   "metadata": {},
   "outputs": [],
   "source": [
    "import pickle as pkl, pandas as pd, numpy as np, json, csv ,random, timeit, re\n",
    "from datetime import date, timedelta\n",
    "\n",
    "from shapely.geometry.polygon import Polygon\n",
    "from shapely.geometry.multipolygon import MultiPolygon\n",
    "from descartes import PolygonPatch\n",
    "\n",
    "from collections import OrderedDict\n",
    "\n",
    "import matplotlib as mpl\n",
    "from matplotlib import pyplot as plt\n",
    "\n",
    "from collections import OrderedDict"
   ]
  },
  {
   "cell_type": "code",
   "execution_count": 4,
   "metadata": {},
   "outputs": [],
   "source": [
    "%run ../src/geo_utils.py\n",
    "%run ../src/shared_utils"
   ]
  },
  {
   "cell_type": "markdown",
   "metadata": {},
   "source": []
  },
  {
   "cell_type": "code",
   "execution_count": 6,
   "metadata": {},
   "outputs": [],
   "source": [
    "counties = OrderedDict()\n",
    "with open(\"../data/raw/germany_county_shapes.json\", \"r\") as data_file:\n",
    "    shape_data = json.load(data_file)\n",
    "\n",
    "for idx, val in enumerate(shape_data[\"features\"]):\n",
    "    id_current = val[\"properties\"][\"RKI_ID\"]\n",
    "    name_current = val[\"properties\"][\"RKI_NameDE\"]\n",
    "\n",
    "    counties[name_current] = id_current"
   ]
  },
  {
   "cell_type": "code",
   "execution_count": 114,
   "metadata": {},
   "outputs": [],
   "source": [
    "covid19_data = pd.read_csv('../data/raw/COVID19.csv', sep=',')\n",
    "\n",
    "start_date = pd.Timestamp(2020, 1, 28)\n",
    "end_date = pd.Timestamp(2020, 3, 23)\n",
    "dates = [day for day in pd.date_range(start_date, end_date)]\n",
    "df = pd.DataFrame(index=dates)\n",
    "for county_name in counties:\n",
    "    series = np.zeros(len(df), dtype=np.int32)\n",
    "    lk_data = covid19_data[covid19_data['Landkreis'] == county_name]\n",
    "    for (did, day) in enumerate(dates):\n",
    "        day_string = \"{:04d}-{:02d}-{:02d}T00:00:00.000Z\".format(day.year, day.month, day.day)\n",
    "        cases = np.sum(lk_data[lk_data['Meldedatum'] == day_string]['AnzahlFall'])\n",
    "        if cases != 0:\n",
    "            series[did] = cases\n",
    "    df.insert(len(df.columns), counties[county_name], series)\n",
    "\n",
    "df.to_csv('../data/diseases/covid19.csv', sep=\";\")"
   ]
  }
 ]
}