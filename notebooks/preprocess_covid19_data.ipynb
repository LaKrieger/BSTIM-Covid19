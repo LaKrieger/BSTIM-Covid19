{
 "nbformat": 4,
 "nbformat_minor": 2,
 "metadata": {
  "language_info": {
   "name": "python",
   "codemirror_mode": {
    "name": "ipython",
    "version": 3
   },
   "version": "3.6.9-final"
  },
  "orig_nbformat": 2,
  "file_extension": ".py",
  "mimetype": "text/x-python",
  "name": "python",
  "npconvert_exporter": "python",
  "pygments_lexer": "ipython3",
  "version": 3,
  "kernelspec": {
   "name": "python36964bitvenvvirtualenv1fb355e5649a4acab1f60f6a1be11128",
   "display_name": "Python 3.6.9 64-bit ('.venv': virtualenv)"
  }
 },
 "cells": [
  {
   "cell_type": "code",
   "execution_count": 49,
   "metadata": {},
   "outputs": [],
   "source": [
    "import pickle as pkl, pandas as pd, numpy as np, json, csv ,random, timeit, re\n",
    "from datetime import date, timedelta\n",
    "\n",
    "from shapely.geometry.polygon import Polygon\n",
    "from shapely.geometry.multipolygon import MultiPolygon\n",
    "from descartes import PolygonPatch\n",
    "\n",
    "from collections import OrderedDict\n",
    "\n",
    "import matplotlib as mpl\n",
    "from matplotlib import pyplot as plt\n",
    "\n",
    "from collections import OrderedDict"
   ]
  },
  {
   "cell_type": "code",
   "execution_count": 4,
   "metadata": {},
   "outputs": [],
   "source": [
    "%run ../src/geo_utils.py\n",
    "%run ../src/shared_utils"
   ]
  },
  {
   "cell_type": "markdown",
   "metadata": {},
   "source": []
  },
  {
   "cell_type": "code",
   "execution_count": 6,
   "metadata": {},
   "outputs": [],
   "source": [
    "counties = OrderedDict()\n",
    "with open(\"../data/raw/germany_county_shapes.json\", \"r\") as data_file:\n",
    "    shape_data = json.load(data_file)\n",
    "\n",
    "for idx, val in enumerate(shape_data[\"features\"]):\n",
    "    id_current = val[\"properties\"][\"RKI_ID\"]\n",
    "    name_current = val[\"properties\"][\"RKI_NameDE\"]\n",
    "\n",
    "    counties[name_current] = id_current"
   ]
  },
  {
   "cell_type": "code",
   "execution_count": 114,
   "metadata": {},
   "outputs": [],
   "source": [
    "covid19_data = pd.read_csv('../data/raw/COVID19.csv', sep=',')\n",
    "\n",
    "start_date = pd.Timestamp(2020, 1, 28)\n",
    "end_date = pd.Timestamp(2020, 3, 23)\n",
    "dates = [day for day in pd.date_range(start_date, end_date)]\n",
    "df = pd.DataFrame(index=dates)\n",
    "for county_name in counties:\n",
    "    series = np.zeros(len(df), dtype=np.int32)\n",
    "    lk_data = covid19_data[covid19_data['Landkreis'] == county_name]\n",
    "    for (did, day) in enumerate(dates):\n",
    "        day_string = \"{:04d}-{:02d}-{:02d}T00:00:00.000Z\".format(day.year, day.month, day.day)\n",
    "        cases = np.sum(lk_data[lk_data['Meldedatum'] == day_string]['AnzahlFall'])\n",
    "        if cases != 0:\n",
    "            series[did] = cases\n",
    "    df.insert(len(df.columns), counties[county_name], series)\n",
    "\n",
    "df.to_csv('../data/diseases/covid19.csv', sep=\";\")"
   ]
  },
  {
   "cell_type": "code",
   "execution_count": 116,
   "metadata": {},
   "outputs": [],
   "source": []
  },
  {
   "cell_type": "code",
   "execution_count": 105,
   "metadata": {},
   "outputs": [
    {
     "output_type": "execute_result",
     "data": {
      "text/plain": "28"
     },
     "metadata": {},
     "execution_count": 105
    }
   ],
   "source": []
  },
  {
   "cell_type": "code",
   "execution_count": 29,
   "metadata": {},
   "outputs": [],
   "source": [
    "year, week, day, time = regex.search(date).groups() # write to csv via "
   ]
  },
  {
   "cell_type": "code",
   "execution_count": 34,
   "metadata": {},
   "outputs": [],
   "source": [
    "day = date(int(year), int(week), int(day)) # do this on data load!"
   ]
  },
  {
   "cell_type": "code",
   "execution_count": 43,
   "metadata": {},
   "outputs": [
    {
     "output_type": "execute_result",
     "data": {
      "text/plain": "       IdBundesland          Bundesland     Landkreis Altersgruppe Geschlecht  \\\n0                 1  Schleswig-Holstein  SK Flensburg      A15-A34          M   \n3                 1  Schleswig-Holstein  SK Flensburg      A15-A34          W   \n5                 1  Schleswig-Holstein  SK Flensburg      A35-A59          M   \n7                 1  Schleswig-Holstein  SK Flensburg      A35-A59          W   \n13                1  Schleswig-Holstein       SK Kiel      A15-A34          M   \n...             ...                 ...           ...          ...        ...   \n12672             8   Baden-Württemberg       LK Calw      A00-A04          M   \n12676             8   Baden-Württemberg       LK Calw      A15-A34          M   \n12684             8   Baden-Württemberg       LK Calw      A15-A34          W   \n12695             8   Baden-Württemberg       LK Calw      A35-A59          M   \n12710             8   Baden-Württemberg       LK Calw      A35-A59          W   \n\n       AnzahlFall  AnzahlTodesfall  ObjectId                Meldedatum  \\\n0               1                0    195068  2020-03-14T00:00:00.000Z   \n3               1                0    195071  2020-03-14T00:00:00.000Z   \n5               1                0    195073  2020-03-14T00:00:00.000Z   \n7               1                0    195075  2020-03-14T00:00:00.000Z   \n13              1                0    195081  2020-03-14T00:00:00.000Z   \n...           ...              ...       ...                       ...   \n12672           1                0    201967  2020-03-14T00:00:00.000Z   \n12676           2                0    201971  2020-03-14T00:00:00.000Z   \n12684           2                0    201979  2020-03-14T00:00:00.000Z   \n12695           2                0    201990  2020-03-14T00:00:00.000Z   \n12710           1                0    202005  2020-03-14T00:00:00.000Z   \n\n       IdLandkreis        Datenstand  NeuerFall  NeuerTodesfall  \n0             1001  24.03.2020 00:00          0               0  \n3             1001  24.03.2020 00:00          0               0  \n5             1001  24.03.2020 00:00          0               0  \n7             1001  24.03.2020 00:00          0               0  \n13            1002  24.03.2020 00:00          0               0  \n...            ...               ...        ...             ...  \n12672         8235  24.03.2020 00:00          0               0  \n12676         8235  24.03.2020 00:00          0               0  \n12684         8235  24.03.2020 00:00          0               0  \n12695         8235  24.03.2020 00:00          0               0  \n12710         8235  24.03.2020 00:00          0               0  \n\n[564 rows x 13 columns]",
      "text/html": "<div>\n<style scoped>\n    .dataframe tbody tr th:only-of-type {\n        vertical-align: middle;\n    }\n\n    .dataframe tbody tr th {\n        vertical-align: top;\n    }\n\n    .dataframe thead th {\n        text-align: right;\n    }\n</style>\n<table border=\"1\" class=\"dataframe\">\n  <thead>\n    <tr style=\"text-align: right;\">\n      <th></th>\n      <th>IdBundesland</th>\n      <th>Bundesland</th>\n      <th>Landkreis</th>\n      <th>Altersgruppe</th>\n      <th>Geschlecht</th>\n      <th>AnzahlFall</th>\n      <th>AnzahlTodesfall</th>\n      <th>ObjectId</th>\n      <th>Meldedatum</th>\n      <th>IdLandkreis</th>\n      <th>Datenstand</th>\n      <th>NeuerFall</th>\n      <th>NeuerTodesfall</th>\n    </tr>\n  </thead>\n  <tbody>\n    <tr>\n      <th>0</th>\n      <td>1</td>\n      <td>Schleswig-Holstein</td>\n      <td>SK Flensburg</td>\n      <td>A15-A34</td>\n      <td>M</td>\n      <td>1</td>\n      <td>0</td>\n      <td>195068</td>\n      <td>2020-03-14T00:00:00.000Z</td>\n      <td>1001</td>\n      <td>24.03.2020 00:00</td>\n      <td>0</td>\n      <td>0</td>\n    </tr>\n    <tr>\n      <th>3</th>\n      <td>1</td>\n      <td>Schleswig-Holstein</td>\n      <td>SK Flensburg</td>\n      <td>A15-A34</td>\n      <td>W</td>\n      <td>1</td>\n      <td>0</td>\n      <td>195071</td>\n      <td>2020-03-14T00:00:00.000Z</td>\n      <td>1001</td>\n      <td>24.03.2020 00:00</td>\n      <td>0</td>\n      <td>0</td>\n    </tr>\n    <tr>\n      <th>5</th>\n      <td>1</td>\n      <td>Schleswig-Holstein</td>\n      <td>SK Flensburg</td>\n      <td>A35-A59</td>\n      <td>M</td>\n      <td>1</td>\n      <td>0</td>\n      <td>195073</td>\n      <td>2020-03-14T00:00:00.000Z</td>\n      <td>1001</td>\n      <td>24.03.2020 00:00</td>\n      <td>0</td>\n      <td>0</td>\n    </tr>\n    <tr>\n      <th>7</th>\n      <td>1</td>\n      <td>Schleswig-Holstein</td>\n      <td>SK Flensburg</td>\n      <td>A35-A59</td>\n      <td>W</td>\n      <td>1</td>\n      <td>0</td>\n      <td>195075</td>\n      <td>2020-03-14T00:00:00.000Z</td>\n      <td>1001</td>\n      <td>24.03.2020 00:00</td>\n      <td>0</td>\n      <td>0</td>\n    </tr>\n    <tr>\n      <th>13</th>\n      <td>1</td>\n      <td>Schleswig-Holstein</td>\n      <td>SK Kiel</td>\n      <td>A15-A34</td>\n      <td>M</td>\n      <td>1</td>\n      <td>0</td>\n      <td>195081</td>\n      <td>2020-03-14T00:00:00.000Z</td>\n      <td>1002</td>\n      <td>24.03.2020 00:00</td>\n      <td>0</td>\n      <td>0</td>\n    </tr>\n    <tr>\n      <th>...</th>\n      <td>...</td>\n      <td>...</td>\n      <td>...</td>\n      <td>...</td>\n      <td>...</td>\n      <td>...</td>\n      <td>...</td>\n      <td>...</td>\n      <td>...</td>\n      <td>...</td>\n      <td>...</td>\n      <td>...</td>\n      <td>...</td>\n    </tr>\n    <tr>\n      <th>12672</th>\n      <td>8</td>\n      <td>Baden-Württemberg</td>\n      <td>LK Calw</td>\n      <td>A00-A04</td>\n      <td>M</td>\n      <td>1</td>\n      <td>0</td>\n      <td>201967</td>\n      <td>2020-03-14T00:00:00.000Z</td>\n      <td>8235</td>\n      <td>24.03.2020 00:00</td>\n      <td>0</td>\n      <td>0</td>\n    </tr>\n    <tr>\n      <th>12676</th>\n      <td>8</td>\n      <td>Baden-Württemberg</td>\n      <td>LK Calw</td>\n      <td>A15-A34</td>\n      <td>M</td>\n      <td>2</td>\n      <td>0</td>\n      <td>201971</td>\n      <td>2020-03-14T00:00:00.000Z</td>\n      <td>8235</td>\n      <td>24.03.2020 00:00</td>\n      <td>0</td>\n      <td>0</td>\n    </tr>\n    <tr>\n      <th>12684</th>\n      <td>8</td>\n      <td>Baden-Württemberg</td>\n      <td>LK Calw</td>\n      <td>A15-A34</td>\n      <td>W</td>\n      <td>2</td>\n      <td>0</td>\n      <td>201979</td>\n      <td>2020-03-14T00:00:00.000Z</td>\n      <td>8235</td>\n      <td>24.03.2020 00:00</td>\n      <td>0</td>\n      <td>0</td>\n    </tr>\n    <tr>\n      <th>12695</th>\n      <td>8</td>\n      <td>Baden-Württemberg</td>\n      <td>LK Calw</td>\n      <td>A35-A59</td>\n      <td>M</td>\n      <td>2</td>\n      <td>0</td>\n      <td>201990</td>\n      <td>2020-03-14T00:00:00.000Z</td>\n      <td>8235</td>\n      <td>24.03.2020 00:00</td>\n      <td>0</td>\n      <td>0</td>\n    </tr>\n    <tr>\n      <th>12710</th>\n      <td>8</td>\n      <td>Baden-Württemberg</td>\n      <td>LK Calw</td>\n      <td>A35-A59</td>\n      <td>W</td>\n      <td>1</td>\n      <td>0</td>\n      <td>202005</td>\n      <td>2020-03-14T00:00:00.000Z</td>\n      <td>8235</td>\n      <td>24.03.2020 00:00</td>\n      <td>0</td>\n      <td>0</td>\n    </tr>\n  </tbody>\n</table>\n<p>564 rows × 13 columns</p>\n</div>"
     },
     "metadata": {},
     "execution_count": 43
    }
   ],
   "source": [
    "covid19_data[ covid19_data['Meldedatum'] == '2020-03-14' + 'T00:00:00.000Z']"
   ]
  },
  {
   "cell_type": "code",
   "execution_count": null,
   "metadata": {},
   "outputs": [],
   "source": []
  }
 ]
}