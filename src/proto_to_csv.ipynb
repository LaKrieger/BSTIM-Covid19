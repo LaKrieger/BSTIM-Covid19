{
 "cells": [
  {
   "cell_type": "code",
   "execution_count": 28,
   "metadata": {},
   "outputs": [],
   "source": [
    "import pickle as pkl\n",
    "import numpy as np\n",
    "from collections import OrderedDict\n",
    "from matplotlib import pyplot as plt\n",
    "from pymc3.stats import quantiles\n",
    "import os\n",
    "import pandas as pd\n",
    "from pathlib import Path\n",
    "import sys"
   ]
  },
  {
   "cell_type": "code",
   "execution_count": 29,
   "metadata": {},
   "outputs": [],
   "source": [
    "sys.path.append('/p/project/covid19dynstat/nieters1/BSTIM-Covid19/src')\n",
    "from shared_utils import *"
   ]
  },
  {
   "cell_type": "code",
   "execution_count": 43,
   "metadata": {},
   "outputs": [],
   "source": [
    "start = 84\n",
    "\n",
    "with open('../data/counties/counties.pkl', \"rb\") as f:\n",
    "    counties = pkl.load(f)\n",
    "\n",
    "n_weeks = 3 # 3 week windows cut out!\n",
    "\n",
    "countyByName = make_county_dict()\n",
    "\n",
    "# plot_county_names = {\"covid19\": [county]}\n",
    "\n",
    "start_day = pd.Timestamp('2020-01-28') + pd.Timedelta(days=start)\n",
    "year = str(start_day)[:4]\n",
    "month = str(start_day)[5:7]\n",
    "day = str(start_day)[8:10]\n",
    "\n",
    "day_folder_path = \"../csv/{}_{}_{}\".format(year, month, day)\n",
    "Path(day_folder_path).mkdir(parents=True, exist_ok=True) # poss change to new variant."
   ]
  },
  {
   "cell_type": "code",
   "execution_count": 44,
   "metadata": {},
   "outputs": [],
   "source": [
    "prediction_region = \"germany\"\n",
    "data = load_data_n_weeks(start, n_weeks, prediction_region, counties)\n",
    "\n",
    "start_day = pd.Timestamp('2020-01-28') + pd.Timedelta(days=start)\n",
    "i_start_day = 0\n",
    "day_0 = start_day + pd.Timedelta(days=n_weeks*7+5)\n",
    "day_m5 = day_0 - pd.Timedelta(days=5)\n",
    "day_p5 = day_0 + pd.Timedelta(days=5)\n",
    "\n",
    "_, target, _, _ = split_data(\n",
    "    data,\n",
    "    train_start=start_day,\n",
    "    test_start=day_0,\n",
    "    post_test=day_p5)\n",
    "\n",
    "county_ids = target.columns\n",
    "# county_id = countyByName[county]\n",
    "\n",
    "# Load our prediction samples\n",
    "res = load_predictions(start, n_weeks)\n",
    "res_trend = load_trend_predictions(start, n_weeks)\n"
   ]
  },
  {
   "cell_type": "code",
   "execution_count": 45,
   "metadata": {},
   "outputs": [],
   "source": [
    "n_days = (day_p5 - start_day).days\n",
    "\n",
    "prediction_samples = np.reshape(res['y'], (res['y'].shape[0], -1, 412)) \n",
    "prediction_samples = prediction_samples[:,i_start_day:i_start_day+n_days,:]\n",
    "\n",
    "prediction_samples_trend = np.reshape(res_trend['y'], (res_trend['y'].shape[0],  -1, 412))\n",
    "prediction_samples_trend = prediction_samples_trend[:,i_start_day:i_start_day+n_days,:]\n",
    "\n",
    "prediction_samples_trend_mu = np.reshape(res_trend['μ'], (res_trend['μ'].shape[0],  -1, 412))\n",
    "prediction_samples_trend_mu = prediction_samples_trend[:,i_start_day:i_start_day+n_days,:]\n",
    "\n",
    "ext_index = pd.DatetimeIndex([d for d in target.index] + \\\n",
    "        [d for d in pd.date_range(target.index[-1]+timedelta(1),day_p5-timedelta(1))])"
   ]
  },
  {
   "cell_type": "code",
   "execution_count": 46,
   "metadata": {},
   "outputs": [],
   "source": [
    "prediction_quantiles = quantiles(prediction_samples, (5, 25, 75, 95)) \n",
    "prediction_quantiles_trend = quantiles(prediction_samples_trend, (5, 25, 75, 95))"
   ]
  },
  {
   "cell_type": "code",
   "execution_count": 47,
   "metadata": {},
   "outputs": [],
   "source": [
    "prediction_mean = pd.DataFrame(\n",
    "    data=np.mean(\n",
    "        prediction_samples,\n",
    "        axis=0),\n",
    "    index=ext_index,\n",
    "    columns=target.columns)\n",
    "prediction_q25 = pd.DataFrame(\n",
    "    data=prediction_quantiles[25],\n",
    "    index=ext_index,\n",
    "    columns=target.columns)\n",
    "prediction_q75 = pd.DataFrame(\n",
    "    data=prediction_quantiles[75],\n",
    "    index=ext_index,\n",
    "    columns=target.columns)\n",
    "prediction_q5 = pd.DataFrame(\n",
    "    data=prediction_quantiles[5],\n",
    "    index=ext_index,\n",
    "    columns=target.columns)\n",
    "prediction_q95 = pd.DataFrame(\n",
    "    data=prediction_quantiles[95],\n",
    "    index=ext_index,\n",
    "    columns=target.columns)\n",
    "\n",
    "prediction_mean_trend = pd.DataFrame(\n",
    "    data=np.mean(\n",
    "        prediction_samples_trend_mu,\n",
    "        axis=0),\n",
    "    index=ext_index,\n",
    "    columns=target.columns)\n",
    "prediction_q25_trend = pd.DataFrame(\n",
    "    data=prediction_quantiles_trend[25],\n",
    "    index=ext_index,\n",
    "    columns=target.columns)\n",
    "prediction_q75_trend = pd.DataFrame(\n",
    "    data=prediction_quantiles_trend[75],\n",
    "    index=ext_index,\n",
    "    columns=target.columns)\n",
    "prediction_q5_trend = pd.DataFrame(\n",
    "    data=prediction_quantiles_trend[5],\n",
    "    index=ext_index,\n",
    "    columns=target.columns)\n",
    "prediction_q95_trend = pd.DataFrame(\n",
    "    data=prediction_quantiles_trend[95],\n",
    "    index=ext_index,\n",
    "    columns=target.columns)"
   ]
  },
  {
   "cell_type": "code",
   "execution_count": 117,
   "metadata": {},
   "outputs": [],
   "source": [
    "for (county, county_id) in countyByName.items():\n",
    "    county_data = pd.DataFrame({\n",
    "        'Raw Prediction Mean' : prediction_mean.loc[:,county_id].values,\n",
    "        'Raw Prediction Q25' : prediction_q25.loc[:,county_id].values,\n",
    "        'Raw Prediction Q75' : prediction_q75.loc[:,county_id].values,\n",
    "        'Raw Prediction Q5' : prediction_q5.loc[:,county_id].values,\n",
    "        'Raw Prediction Q95' : prediction_q95.loc[:,county_id].values,\n",
    "        'Trend Prediction Mean' : prediction_mean_trend.loc[:,county_id].values,\n",
    "        'Trend Prediction Q25' : prediction_q25_trend.loc[:,county_id].values,\n",
    "        'Trend Prediction Q75' : prediction_q75_trend.loc[:,county_id].values,\n",
    "        'Trend Prediction Q5' : prediction_q5_trend.loc[:,county_id].values,\n",
    "        'Trend Prediction Q95' : prediction_q95_trend.loc[:,county_id].values,\n",
    "        'RKI Meldedaten' : np.append(target.loc[:,county_id].values, np.repeat(np.nan, 5)),\n",
    "        'is_nowcast' : (day_m5 <= ext_index) & (ext_index < day_0),\n",
    "        'is_prediction' : (day_0 <= ext_index)},\n",
    "        index = ext_index\n",
    "    )\n",
    "    county_data.to_csv(\"../csv/{}_{}_{}/{}.csv\".format(year, month, day, countyByName[county]))"
   ]
  },
  {
   "cell_type": "code",
   "execution_count": 120,
   "metadata": {},
   "outputs": [
    {
     "data": {
      "text/plain": [
       "array([10,  6,  0,  1,  4,  6,  1, 11,  2, 18,  4, 10,  2,  3,  0,  0, 12,\n",
       "        4,  8, 10,  2,  0,  0,  2,  3,  0,  0, 25, 22,  5,  2, 27, 11, 19,\n",
       "        0,  1,  7, 13,  0,  4,  0,  3,  2,  8, 12,  0,  0,  0,  0,  1, 11,\n",
       "        1,  1,  3, 14,  3,  1,  9, 18,  0,  6, 11, 13, 13,  0,  0,  9,  1,\n",
       "        0,  0,  3,  2,  0, 18,  0, 26,  8,  0,  3, 38,  3,  7,  0, 10, 25,\n",
       "       57,  3,  1,  2,  0,  0,  8,  0,  5,  6, 15, 33, 10,  0,  0, 28,  3,\n",
       "        1,  3,  8,  1,  1,  2,  2, 14,  2,  5,  0,  6, 37,  6,  9, 43,  1,\n",
       "        2,  3, 13,  0, 10, 56, 10,  2,  0,  0,  0, 25,  1,  1,  1,  0,  0,\n",
       "        1,  0,  1,  3,  1,  6,  4,  3,  8,  4,  8,  0,  2,  0,  0,  9,  0,\n",
       "        2,  3,  2,  0, 22,  1,  4,  6,  6, 17,  9,  2,  7, 12, 11,  4,  1,\n",
       "        2,  1,  0,  9,  7,  4,  6, 64,  8,  3,  4,  1,  1, 53,  1,  0,  2,\n",
       "        0, 10,  2, 27,  0,  3,  0,  3,  1,  0,  5,  2,  0,  1,  1, 26, 36,\n",
       "       11,  0,  3, 10,  0,  1,  3, 17, 10,  3,  0,  5,  2, 10,  3, 32,  3,\n",
       "        6,  0,  4,  0,  4,  1,  9,  5,  3,  9,  3,  2,  7,  5,  1,  1,  6,\n",
       "        0,  2,  6,  3,  1,  2,  1,  7,  0,  3,  1,  3,  4,  8,  0,  7,  0,\n",
       "        9, 15,  6,  4, 20,  0,  1,  0, 15, 10,  5,  1,  4,  8,  2,  5,  5,\n",
       "       12, 37, 24,  0,  1, 14,  6,  1,  0,  0, 12,  7,  7,  9,  0,  5, 14,\n",
       "       29,  1, 12,  0,  0,  0,  1,  3,  2,  0,  4,  2,  0,  7,  0,  2, 10,\n",
       "        1,  4,  0,  4,  6, 43,  1,  2,  0,  2, 14,  4,  0, 14, 27,  0, 27,\n",
       "        7,  3,  3,  9, 30,  0,  9,  7,  4,  1,  0,  3,  4, 19,  0,  1,  8,\n",
       "        1,  0,  5, 41,  0,  6, 15,  0,  2,  2, 23, 11, 14,  5,  6,  4,  0,\n",
       "        1,  4, 17, 19,  1,  1,  0,  3,  0,  0, 11,  0,  0,  9,  0, 21,  1,\n",
       "        4,  0,  1,  1,  0,  3,  2,  4,  1,  7, 16,  1,  1,  3, 13,  7, 12,\n",
       "        1,  1,  0,  0,  0,  1,  0,  0,  0, 18,  7,  8, 13,  3,  9, 12, 17,\n",
       "       17, 27,  0,  2])"
      ]
     },
     "execution_count": 120,
     "metadata": {},
     "output_type": "execute_result"
    }
   ],
   "source": [
    "prediction_samples[1][1]"
   ]
  },
  {
   "cell_type": "code",
   "execution_count": 121,
   "metadata": {},
   "outputs": [],
   "source": [
    "test = np.mean(prediction_samples, axis=0)"
   ]
  },
  {
   "cell_type": "code",
   "execution_count": 124,
   "metadata": {},
   "outputs": [
    {
     "data": {
      "text/plain": [
       "1.203"
      ]
     },
     "execution_count": 124,
     "metadata": {},
     "output_type": "execute_result"
    }
   ],
   "source": [
    "test[1][2]"
   ]
  },
  {
   "cell_type": "code",
   "execution_count": null,
   "metadata": {},
   "outputs": [],
   "source": []
  }
 ],
 "metadata": {
  "kernelspec": {
   "display_name": "covid19dynstat_v01",
   "language": "python",
   "name": "covid19dynstat_v01"
  },
  "language_info": {
   "codemirror_mode": {
    "name": "ipython",
    "version": 3
   },
   "file_extension": ".py",
   "mimetype": "text/x-python",
   "name": "python",
   "nbconvert_exporter": "python",
   "pygments_lexer": "ipython3",
   "version": "3.6.8"
  }
 },
 "nbformat": 4,
 "nbformat_minor": 4
}
